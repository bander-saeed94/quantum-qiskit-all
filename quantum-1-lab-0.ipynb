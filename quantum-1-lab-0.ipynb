{
 "cells": [
  {
   "cell_type": "code",
   "execution_count": 2,
   "metadata": {},
   "outputs": [],
   "source": [
    "import qiskit\n",
    "# source quantum_env/bin/activate "
   ]
  },
  {
   "cell_type": "code",
   "execution_count": 3,
   "metadata": {},
   "outputs": [
    {
     "name": "stdout",
     "output_type": "stream",
     "text": [
      "Requirement already satisfied: qiskit==1.3.0 in ./quantum_env/lib/python3.13/site-packages (from qiskit[visualization]==1.3.0) (1.3.0)\n",
      "Requirement already satisfied: rustworkx>=0.15.0 in ./quantum_env/lib/python3.13/site-packages (from qiskit==1.3.0->qiskit[visualization]==1.3.0) (0.15.1)\n",
      "Requirement already satisfied: numpy<3,>=1.17 in ./quantum_env/lib/python3.13/site-packages (from qiskit==1.3.0->qiskit[visualization]==1.3.0) (2.1.3)\n",
      "Requirement already satisfied: scipy>=1.5 in ./quantum_env/lib/python3.13/site-packages (from qiskit==1.3.0->qiskit[visualization]==1.3.0) (1.14.1)\n",
      "Requirement already satisfied: sympy>=1.3 in ./quantum_env/lib/python3.13/site-packages (from qiskit==1.3.0->qiskit[visualization]==1.3.0) (1.13.3)\n",
      "Requirement already satisfied: dill>=0.3 in ./quantum_env/lib/python3.13/site-packages (from qiskit==1.3.0->qiskit[visualization]==1.3.0) (0.3.9)\n",
      "Requirement already satisfied: python-dateutil>=2.8.0 in ./quantum_env/lib/python3.13/site-packages (from qiskit==1.3.0->qiskit[visualization]==1.3.0) (2.9.0.post0)\n",
      "Requirement already satisfied: stevedore>=3.0.0 in ./quantum_env/lib/python3.13/site-packages (from qiskit==1.3.0->qiskit[visualization]==1.3.0) (5.4.0)\n",
      "Requirement already satisfied: typing-extensions in ./quantum_env/lib/python3.13/site-packages (from qiskit==1.3.0->qiskit[visualization]==1.3.0) (4.12.2)\n",
      "Requirement already satisfied: symengine<0.14,>=0.11 in ./quantum_env/lib/python3.13/site-packages (from qiskit==1.3.0->qiskit[visualization]==1.3.0) (0.13.0)\n",
      "Requirement already satisfied: matplotlib>=3.3 in ./quantum_env/lib/python3.13/site-packages (from qiskit[visualization]==1.3.0) (3.9.3)\n",
      "Requirement already satisfied: pydot in ./quantum_env/lib/python3.13/site-packages (from qiskit[visualization]==1.3.0) (3.0.3)\n",
      "Requirement already satisfied: Pillow>=4.2.1 in ./quantum_env/lib/python3.13/site-packages (from qiskit[visualization]==1.3.0) (11.0.0)\n",
      "Requirement already satisfied: pylatexenc>=1.4 in ./quantum_env/lib/python3.13/site-packages (from qiskit[visualization]==1.3.0) (2.10)\n",
      "Requirement already satisfied: seaborn>=0.9.0 in ./quantum_env/lib/python3.13/site-packages (from qiskit[visualization]==1.3.0) (0.13.2)\n",
      "Requirement already satisfied: contourpy>=1.0.1 in ./quantum_env/lib/python3.13/site-packages (from matplotlib>=3.3->qiskit[visualization]==1.3.0) (1.3.1)\n",
      "Requirement already satisfied: cycler>=0.10 in ./quantum_env/lib/python3.13/site-packages (from matplotlib>=3.3->qiskit[visualization]==1.3.0) (0.12.1)\n",
      "Requirement already satisfied: fonttools>=4.22.0 in ./quantum_env/lib/python3.13/site-packages (from matplotlib>=3.3->qiskit[visualization]==1.3.0) (4.55.2)\n",
      "Requirement already satisfied: kiwisolver>=1.3.1 in ./quantum_env/lib/python3.13/site-packages (from matplotlib>=3.3->qiskit[visualization]==1.3.0) (1.4.7)\n",
      "Requirement already satisfied: packaging>=20.0 in ./quantum_env/lib/python3.13/site-packages (from matplotlib>=3.3->qiskit[visualization]==1.3.0) (24.2)\n",
      "Requirement already satisfied: pyparsing>=2.3.1 in ./quantum_env/lib/python3.13/site-packages (from matplotlib>=3.3->qiskit[visualization]==1.3.0) (3.2.0)\n",
      "Requirement already satisfied: six>=1.5 in ./quantum_env/lib/python3.13/site-packages (from python-dateutil>=2.8.0->qiskit==1.3.0->qiskit[visualization]==1.3.0) (1.17.0)\n",
      "Requirement already satisfied: pandas>=1.2 in ./quantum_env/lib/python3.13/site-packages (from seaborn>=0.9.0->qiskit[visualization]==1.3.0) (2.2.3)\n",
      "Requirement already satisfied: pbr>=2.0.0 in ./quantum_env/lib/python3.13/site-packages (from stevedore>=3.0.0->qiskit==1.3.0->qiskit[visualization]==1.3.0) (6.1.0)\n",
      "Requirement already satisfied: mpmath<1.4,>=1.1.0 in ./quantum_env/lib/python3.13/site-packages (from sympy>=1.3->qiskit==1.3.0->qiskit[visualization]==1.3.0) (1.3.0)\n",
      "Requirement already satisfied: pytz>=2020.1 in ./quantum_env/lib/python3.13/site-packages (from pandas>=1.2->seaborn>=0.9.0->qiskit[visualization]==1.3.0) (2024.2)\n",
      "Requirement already satisfied: tzdata>=2022.7 in ./quantum_env/lib/python3.13/site-packages (from pandas>=1.2->seaborn>=0.9.0->qiskit[visualization]==1.3.0) (2024.2)\n",
      "Note: you may need to restart the kernel to use updated packages.\n"
     ]
    }
   ],
   "source": [
    "%pip install 'qiskit[visualization]'==1.3.0"
   ]
  },
  {
   "cell_type": "code",
   "execution_count": 3,
   "metadata": {},
   "outputs": [
    {
     "data": {
      "text/plain": [
       "'1.3.0'"
      ]
     },
     "execution_count": 3,
     "metadata": {},
     "output_type": "execute_result"
    }
   ],
   "source": [
    "qiskit.__version__"
   ]
  },
  {
   "cell_type": "code",
   "execution_count": 4,
   "metadata": {},
   "outputs": [
    {
     "data": {
      "image/png": "[encoded data removed]",
      "text/plain": [
       "<Figure size 185.453x117.056 with 1 Axes>"
      ]
     },
     "execution_count": 4,
     "metadata": {},
     "output_type": "execute_result"
    }
   ],
   "source": [
    "from qiskit import QuantumCircuit\n",
    "\n",
    "# Create a new circuit with a single qubit\n",
    "qc = QuantumCircuit(1)\n",
    "\n",
    "# Add a Not gate to qubit 0\n",
    "qc.x(0)\n",
    "\n",
    "# Return a drawing of the circuit using MatPlotLib (\"mpl\"). This is the\n",
    "# last line of the cell, so the drawing appears in the cell output.\n",
    "qc.draw(\"mpl\")"
   ]
  },
  {
   "cell_type": "code",
   "execution_count": null,
   "metadata": {},
   "outputs": [],
   "source": []
  },
  {
   "cell_type": "code",
   "execution_count": 5,
   "metadata": {},
   "outputs": [
    {
     "data": {
      "text/plain": [
       "127"
      ]
     },
     "execution_count": 5,
     "metadata": {},
     "output_type": "execute_result"
    }
   ],
   "source": [
    "from qiskit_ibm_runtime import QiskitRuntimeService\n",
    "service = QiskitRuntimeService(channel=\"ibm_quantum\", #ibm_cloud for open plan\n",
    "                               token=\"d35b8251169d3af997083cd10df4a512081e3329b1f721b6b0dc456a43a085c1e25fdb64d7efa50cac5e6157aedee071e8c601d1f0be10cd53ca9b5a78f2ae68\")\n",
    "backend = service.backend(name=\"ibm_brisbane\") # select a compute resource\n",
    "backend.num_qubits"
   ]
  },
  {
   "cell_type": "code",
   "execution_count": null,
   "metadata": {},
   "outputs": [],
   "source": [
    "from qiskit_ibm_runtime import QiskitRuntimeService\n",
    "\n",
    "# save in env\n",
    "QiskitRuntimeService.save_account(channel=\"ibm_quantum\",\n",
    "                                  token=\"d35b8251169d3af997083cd10df4a512081e3329b1f721b6b0dc456a43a085c1e25fdb64d7efa50cac5e6157aedee071e8c601d1f0be10cd53ca9b5a78f2ae68\")"
   ]
  },
  {
   "cell_type": "code",
   "execution_count": 11,
   "metadata": {},
   "outputs": [
    {
     "name": "stdout",
     "output_type": "stream",
     "text": [
      "Requirement already satisfied: qiskit_aer in ./quantum_env/lib/python3.13/site-packages (0.15.1)\n",
      "Requirement already satisfied: qiskit>=1.1.0 in ./quantum_env/lib/python3.13/site-packages (from qiskit_aer) (1.3.0)\n",
      "Requirement already satisfied: numpy>=1.16.3 in ./quantum_env/lib/python3.13/site-packages (from qiskit_aer) (2.1.3)\n",
      "Requirement already satisfied: scipy>=1.0 in ./quantum_env/lib/python3.13/site-packages (from qiskit_aer) (1.14.1)\n",
      "Requirement already satisfied: psutil>=5 in ./quantum_env/lib/python3.13/site-packages (from qiskit_aer) (6.1.0)\n",
      "Requirement already satisfied: rustworkx>=0.15.0 in ./quantum_env/lib/python3.13/site-packages (from qiskit>=1.1.0->qiskit_aer) (0.15.1)\n",
      "Requirement already satisfied: sympy>=1.3 in ./quantum_env/lib/python3.13/site-packages (from qiskit>=1.1.0->qiskit_aer) (1.13.3)\n",
      "Requirement already satisfied: dill>=0.3 in ./quantum_env/lib/python3.13/site-packages (from qiskit>=1.1.0->qiskit_aer) (0.3.9)\n",
      "Requirement already satisfied: python-dateutil>=2.8.0 in ./quantum_env/lib/python3.13/site-packages (from qiskit>=1.1.0->qiskit_aer) (2.9.0.post0)\n",
      "Requirement already satisfied: stevedore>=3.0.0 in ./quantum_env/lib/python3.13/site-packages (from qiskit>=1.1.0->qiskit_aer) (5.4.0)\n",
      "Requirement already satisfied: typing-extensions in ./quantum_env/lib/python3.13/site-packages (from qiskit>=1.1.0->qiskit_aer) (4.12.2)\n",
      "Requirement already satisfied: symengine<0.14,>=0.11 in ./quantum_env/lib/python3.13/site-packages (from qiskit>=1.1.0->qiskit_aer) (0.13.0)\n",
      "Requirement already satisfied: six>=1.5 in ./quantum_env/lib/python3.13/site-packages (from python-dateutil>=2.8.0->qiskit>=1.1.0->qiskit_aer) (1.17.0)\n",
      "Requirement already satisfied: pbr>=2.0.0 in ./quantum_env/lib/python3.13/site-packages (from stevedore>=3.0.0->qiskit>=1.1.0->qiskit_aer) (6.1.0)\n",
      "Requirement already satisfied: mpmath<1.4,>=1.1.0 in ./quantum_env/lib/python3.13/site-packages (from sympy>=1.3->qiskit>=1.1.0->qiskit_aer) (1.3.0)\n",
      "Note: you may need to restart the kernel to use updated packages.\n",
      "Requirement already satisfied: qiskit_ibm_runtime in ./quantum_env/lib/python3.13/site-packages (0.34.0)\n",
      "Requirement already satisfied: requests>=2.19 in ./quantum_env/lib/python3.13/site-packages (from qiskit_ibm_runtime) (2.32.3)\n",
      "Requirement already satisfied: requests-ntlm>=1.1.0 in ./quantum_env/lib/python3.13/site-packages (from qiskit_ibm_runtime) (1.3.0)\n",
      "Requirement already satisfied: numpy>=1.13 in ./quantum_env/lib/python3.13/site-packages (from qiskit_ibm_runtime) (2.1.3)\n",
      "Requirement already satisfied: urllib3>=1.21.1 in ./quantum_env/lib/python3.13/site-packages (from qiskit_ibm_runtime) (2.2.3)\n",
      "Requirement already satisfied: python-dateutil>=2.8.0 in ./quantum_env/lib/python3.13/site-packages (from qiskit_ibm_runtime) (2.9.0.post0)\n",
      "Requirement already satisfied: websocket-client>=1.5.1 in ./quantum_env/lib/python3.13/site-packages (from qiskit_ibm_runtime) (1.8.0)\n",
      "Requirement already satisfied: ibm-platform-services>=0.22.6 in ./quantum_env/lib/python3.13/site-packages (from qiskit_ibm_runtime) (0.59.0)\n",
      "Requirement already satisfied: pydantic<2.10,>=2.5.0 in ./quantum_env/lib/python3.13/site-packages (from qiskit_ibm_runtime) (2.9.2)\n",
      "Requirement already satisfied: qiskit>=1.1.0 in ./quantum_env/lib/python3.13/site-packages (from qiskit_ibm_runtime) (1.3.0)\n",
      "Requirement already satisfied: ibm-cloud-sdk-core<4.0.0,>=3.22.0 in ./quantum_env/lib/python3.13/site-packages (from ibm-platform-services>=0.22.6->qiskit_ibm_runtime) (3.22.0)\n",
      "Requirement already satisfied: annotated-types>=0.6.0 in ./quantum_env/lib/python3.13/site-packages (from pydantic<2.10,>=2.5.0->qiskit_ibm_runtime) (0.7.0)\n",
      "Requirement already satisfied: pydantic-core==2.23.4 in ./quantum_env/lib/python3.13/site-packages (from pydantic<2.10,>=2.5.0->qiskit_ibm_runtime) (2.23.4)\n",
      "Requirement already satisfied: typing-extensions>=4.12.2 in ./quantum_env/lib/python3.13/site-packages (from pydantic<2.10,>=2.5.0->qiskit_ibm_runtime) (4.12.2)\n",
      "Requirement already satisfied: six>=1.5 in ./quantum_env/lib/python3.13/site-packages (from python-dateutil>=2.8.0->qiskit_ibm_runtime) (1.17.0)\n",
      "Requirement already satisfied: rustworkx>=0.15.0 in ./quantum_env/lib/python3.13/site-packages (from qiskit>=1.1.0->qiskit_ibm_runtime) (0.15.1)\n",
      "Requirement already satisfied: scipy>=1.5 in ./quantum_env/lib/python3.13/site-packages (from qiskit>=1.1.0->qiskit_ibm_runtime) (1.14.1)\n",
      "Requirement already satisfied: sympy>=1.3 in ./quantum_env/lib/python3.13/site-packages (from qiskit>=1.1.0->qiskit_ibm_runtime) (1.13.3)\n",
      "Requirement already satisfied: dill>=0.3 in ./quantum_env/lib/python3.13/site-packages (from qiskit>=1.1.0->qiskit_ibm_runtime) (0.3.9)\n",
      "Requirement already satisfied: stevedore>=3.0.0 in ./quantum_env/lib/python3.13/site-packages (from qiskit>=1.1.0->qiskit_ibm_runtime) (5.4.0)\n",
      "Requirement already satisfied: symengine<0.14,>=0.11 in ./quantum_env/lib/python3.13/site-packages (from qiskit>=1.1.0->qiskit_ibm_runtime) (0.13.0)\n",
      "Requirement already satisfied: charset-normalizer<4,>=2 in ./quantum_env/lib/python3.13/site-packages (from requests>=2.19->qiskit_ibm_runtime) (3.4.0)\n",
      "Requirement already satisfied: idna<4,>=2.5 in ./quantum_env/lib/python3.13/site-packages (from requests>=2.19->qiskit_ibm_runtime) (3.10)\n",
      "Requirement already satisfied: certifi>=2017.4.17 in ./quantum_env/lib/python3.13/site-packages (from requests>=2.19->qiskit_ibm_runtime) (2024.8.30)\n",
      "Requirement already satisfied: cryptography>=1.3 in ./quantum_env/lib/python3.13/site-packages (from requests-ntlm>=1.1.0->qiskit_ibm_runtime) (44.0.0)\n",
      "Requirement already satisfied: pyspnego>=0.4.0 in ./quantum_env/lib/python3.13/site-packages (from requests-ntlm>=1.1.0->qiskit_ibm_runtime) (0.11.2)\n",
      "Requirement already satisfied: cffi>=1.12 in ./quantum_env/lib/python3.13/site-packages (from cryptography>=1.3->requests-ntlm>=1.1.0->qiskit_ibm_runtime) (1.17.1)\n",
      "Requirement already satisfied: PyJWT<3.0.0,>=2.8.0 in ./quantum_env/lib/python3.13/site-packages (from ibm-cloud-sdk-core<4.0.0,>=3.22.0->ibm-platform-services>=0.22.6->qiskit_ibm_runtime) (2.10.1)\n",
      "Requirement already satisfied: pbr>=2.0.0 in ./quantum_env/lib/python3.13/site-packages (from stevedore>=3.0.0->qiskit>=1.1.0->qiskit_ibm_runtime) (6.1.0)\n",
      "Requirement already satisfied: mpmath<1.4,>=1.1.0 in ./quantum_env/lib/python3.13/site-packages (from sympy>=1.3->qiskit>=1.1.0->qiskit_ibm_runtime) (1.3.0)\n",
      "Requirement already satisfied: pycparser in ./quantum_env/lib/python3.13/site-packages (from cffi>=1.12->cryptography>=1.3->requests-ntlm>=1.1.0->qiskit_ibm_runtime) (2.22)\n",
      "Note: you may need to restart the kernel to use updated packages.\n",
      "Requirement already satisfied: matplotlib in ./quantum_env/lib/python3.13/site-packages (3.9.3)\n",
      "Requirement already satisfied: contourpy>=1.0.1 in ./quantum_env/lib/python3.13/site-packages (from matplotlib) (1.3.1)\n",
      "Requirement already satisfied: cycler>=0.10 in ./quantum_env/lib/python3.13/site-packages (from matplotlib) (0.12.1)\n",
      "Requirement already satisfied: fonttools>=4.22.0 in ./quantum_env/lib/python3.13/site-packages (from matplotlib) (4.55.2)\n",
      "Requirement already satisfied: kiwisolver>=1.3.1 in ./quantum_env/lib/python3.13/site-packages (from matplotlib) (1.4.7)\n",
      "Requirement already satisfied: numpy>=1.23 in ./quantum_env/lib/python3.13/site-packages (from matplotlib) (2.1.3)\n",
      "Requirement already satisfied: packaging>=20.0 in ./quantum_env/lib/python3.13/site-packages (from matplotlib) (24.2)\n",
      "Requirement already satisfied: pillow>=8 in ./quantum_env/lib/python3.13/site-packages (from matplotlib) (11.0.0)\n",
      "Requirement already satisfied: pyparsing>=2.3.1 in ./quantum_env/lib/python3.13/site-packages (from matplotlib) (3.2.0)\n",
      "Requirement already satisfied: python-dateutil>=2.7 in ./quantum_env/lib/python3.13/site-packages (from matplotlib) (2.9.0.post0)\n",
      "Requirement already satisfied: six>=1.5 in ./quantum_env/lib/python3.13/site-packages (from python-dateutil>=2.7->matplotlib) (1.17.0)\n",
      "Note: you may need to restart the kernel to use updated packages.\n",
      "Requirement already satisfied: pylatexenc in ./quantum_env/lib/python3.13/site-packages (2.10)\n",
      "Note: you may need to restart the kernel to use updated packages.\n",
      "Requirement already satisfied: qiskit-transpiler-service in ./quantum_env/lib/python3.13/site-packages (0.4.14)\n",
      "Requirement already satisfied: qiskit~=1.0 in ./quantum_env/lib/python3.13/site-packages (from qiskit-transpiler-service) (1.3.0)\n",
      "Requirement already satisfied: backoff~=2.0 in ./quantum_env/lib/python3.13/site-packages (from qiskit-transpiler-service) (2.2.1)\n",
      "Requirement already satisfied: qiskit-qasm3-import~=0.4 in ./quantum_env/lib/python3.13/site-packages (from qiskit-transpiler-service) (0.5.1)\n",
      "Requirement already satisfied: requests~=2.0 in ./quantum_env/lib/python3.13/site-packages (from qiskit-transpiler-service) (2.32.3)\n",
      "Requirement already satisfied: rustworkx>=0.15.0 in ./quantum_env/lib/python3.13/site-packages (from qiskit~=1.0->qiskit-transpiler-service) (0.15.1)\n",
      "Requirement already satisfied: numpy<3,>=1.17 in ./quantum_env/lib/python3.13/site-packages (from qiskit~=1.0->qiskit-transpiler-service) (2.1.3)\n",
      "Requirement already satisfied: scipy>=1.5 in ./quantum_env/lib/python3.13/site-packages (from qiskit~=1.0->qiskit-transpiler-service) (1.14.1)\n",
      "Requirement already satisfied: sympy>=1.3 in ./quantum_env/lib/python3.13/site-packages (from qiskit~=1.0->qiskit-transpiler-service) (1.13.3)\n",
      "Requirement already satisfied: dill>=0.3 in ./quantum_env/lib/python3.13/site-packages (from qiskit~=1.0->qiskit-transpiler-service) (0.3.9)\n",
      "Requirement already satisfied: python-dateutil>=2.8.0 in ./quantum_env/lib/python3.13/site-packages (from qiskit~=1.0->qiskit-transpiler-service) (2.9.0.post0)\n",
      "Requirement already satisfied: stevedore>=3.0.0 in ./quantum_env/lib/python3.13/site-packages (from qiskit~=1.0->qiskit-transpiler-service) (5.4.0)\n",
      "Requirement already satisfied: typing-extensions in ./quantum_env/lib/python3.13/site-packages (from qiskit~=1.0->qiskit-transpiler-service) (4.12.2)\n",
      "Requirement already satisfied: symengine<0.14,>=0.11 in ./quantum_env/lib/python3.13/site-packages (from qiskit~=1.0->qiskit-transpiler-service) (0.13.0)\n",
      "Requirement already satisfied: openqasm3<2.0,>=0.4 in ./quantum_env/lib/python3.13/site-packages (from openqasm3[parser]<2.0,>=0.4->qiskit-qasm3-import~=0.4->qiskit-transpiler-service) (1.0.0)\n",
      "Requirement already satisfied: charset-normalizer<4,>=2 in ./quantum_env/lib/python3.13/site-packages (from requests~=2.0->qiskit-transpiler-service) (3.4.0)\n",
      "Requirement already satisfied: idna<4,>=2.5 in ./quantum_env/lib/python3.13/site-packages (from requests~=2.0->qiskit-transpiler-service) (3.10)\n",
      "Requirement already satisfied: urllib3<3,>=1.21.1 in ./quantum_env/lib/python3.13/site-packages (from requests~=2.0->qiskit-transpiler-service) (2.2.3)\n",
      "Requirement already satisfied: certifi>=2017.4.17 in ./quantum_env/lib/python3.13/site-packages (from requests~=2.0->qiskit-transpiler-service) (2024.8.30)\n",
      "Requirement already satisfied: antlr4-python3-runtime<4.14,>=4.7 in ./quantum_env/lib/python3.13/site-packages (from openqasm3[parser]<2.0,>=0.4->qiskit-qasm3-import~=0.4->qiskit-transpiler-service) (4.13.2)\n",
      "Requirement already satisfied: six>=1.5 in ./quantum_env/lib/python3.13/site-packages (from python-dateutil>=2.8.0->qiskit~=1.0->qiskit-transpiler-service) (1.17.0)\n",
      "Requirement already satisfied: pbr>=2.0.0 in ./quantum_env/lib/python3.13/site-packages (from stevedore>=3.0.0->qiskit~=1.0->qiskit-transpiler-service) (6.1.0)\n",
      "Requirement already satisfied: mpmath<1.4,>=1.1.0 in ./quantum_env/lib/python3.13/site-packages (from sympy>=1.3->qiskit~=1.0->qiskit-transpiler-service) (1.3.0)\n",
      "Note: you may need to restart the kernel to use updated packages.\n",
      "Collecting git+https://github.com/qiskit-community/Quantum-Challenge-Grader.git\n",
      "  Cloning https://github.com/qiskit-community/Quantum-Challenge-Grader.git to /private/var/folders/nb/cctk0qk1041csvg0gk9741qr0000gn/T/pip-req-build-bnyocafp\n",
      "  Running command git clone --filter=blob:none --quiet https://github.com/qiskit-community/Quantum-Challenge-Grader.git /private/var/folders/nb/cctk0qk1041csvg0gk9741qr0000gn/T/pip-req-build-bnyocafp\n",
      "  Resolved https://github.com/qiskit-community/Quantum-Challenge-Grader.git to commit 49b232a1e821722e6820d54fdcb2d1117a75f597\n",
      "  Installing build dependencies ... \u001b[?25ldone\n",
      "\u001b[?25h  Getting requirements to build wheel ... \u001b[?25ldone\n",
      "\u001b[?25h  Preparing metadata (pyproject.toml) ... \u001b[?25ldone\n",
      "\u001b[?25hRequirement already satisfied: typeguard in ./quantum_env/lib/python3.13/site-packages (from qc_grader==0.21.5) (4.4.1)\n",
      "Requirement already satisfied: jsonpickle==3.0.3 in ./quantum_env/lib/python3.13/site-packages (from qc_grader==0.21.5) (3.0.3)\n",
      "Requirement already satisfied: ipycytoscape in ./quantum_env/lib/python3.13/site-packages (from qc_grader==0.21.5) (1.3.3)\n",
      "Requirement already satisfied: plotly in ./quantum_env/lib/python3.13/site-packages (from qc_grader==0.21.5) (5.24.1)\n",
      "Requirement already satisfied: networkx==3.2.1 in ./quantum_env/lib/python3.13/site-packages (from qc_grader==0.21.5) (3.2.1)\n",
      "Requirement already satisfied: graphviz in ./quantum_env/lib/python3.13/site-packages (from qc_grader==0.21.5) (0.20.3)\n",
      "Requirement already satisfied: ipywidgets>=7.6.0 in ./quantum_env/lib/python3.13/site-packages (from ipycytoscape->qc_grader==0.21.5) (8.1.5)\n",
      "Requirement already satisfied: spectate>=1.0.0 in ./quantum_env/lib/python3.13/site-packages (from ipycytoscape->qc_grader==0.21.5) (1.0.1)\n",
      "Requirement already satisfied: tenacity>=6.2.0 in ./quantum_env/lib/python3.13/site-packages (from plotly->qc_grader==0.21.5) (9.0.0)\n",
      "Requirement already satisfied: packaging in ./quantum_env/lib/python3.13/site-packages (from plotly->qc_grader==0.21.5) (24.2)\n",
      "Requirement already satisfied: typing-extensions>=4.10.0 in ./quantum_env/lib/python3.13/site-packages (from typeguard->qc_grader==0.21.5) (4.12.2)\n",
      "Requirement already satisfied: comm>=0.1.3 in ./quantum_env/lib/python3.13/site-packages (from ipywidgets>=7.6.0->ipycytoscape->qc_grader==0.21.5) (0.2.2)\n",
      "Requirement already satisfied: ipython>=6.1.0 in ./quantum_env/lib/python3.13/site-packages (from ipywidgets>=7.6.0->ipycytoscape->qc_grader==0.21.5) (8.30.0)\n",
      "Requirement already satisfied: traitlets>=4.3.1 in ./quantum_env/lib/python3.13/site-packages (from ipywidgets>=7.6.0->ipycytoscape->qc_grader==0.21.5) (5.14.3)\n",
      "Requirement already satisfied: widgetsnbextension~=4.0.12 in ./quantum_env/lib/python3.13/site-packages (from ipywidgets>=7.6.0->ipycytoscape->qc_grader==0.21.5) (4.0.13)\n",
      "Requirement already satisfied: jupyterlab-widgets~=3.0.12 in ./quantum_env/lib/python3.13/site-packages (from ipywidgets>=7.6.0->ipycytoscape->qc_grader==0.21.5) (3.0.13)\n",
      "Requirement already satisfied: decorator in ./quantum_env/lib/python3.13/site-packages (from ipython>=6.1.0->ipywidgets>=7.6.0->ipycytoscape->qc_grader==0.21.5) (5.1.1)\n",
      "Requirement already satisfied: jedi>=0.16 in ./quantum_env/lib/python3.13/site-packages (from ipython>=6.1.0->ipywidgets>=7.6.0->ipycytoscape->qc_grader==0.21.5) (0.19.2)\n",
      "Requirement already satisfied: matplotlib-inline in ./quantum_env/lib/python3.13/site-packages (from ipython>=6.1.0->ipywidgets>=7.6.0->ipycytoscape->qc_grader==0.21.5) (0.1.7)\n",
      "Requirement already satisfied: pexpect>4.3 in ./quantum_env/lib/python3.13/site-packages (from ipython>=6.1.0->ipywidgets>=7.6.0->ipycytoscape->qc_grader==0.21.5) (4.9.0)\n",
      "Requirement already satisfied: prompt_toolkit<3.1.0,>=3.0.41 in ./quantum_env/lib/python3.13/site-packages (from ipython>=6.1.0->ipywidgets>=7.6.0->ipycytoscape->qc_grader==0.21.5) (3.0.48)\n",
      "Requirement already satisfied: pygments>=2.4.0 in ./quantum_env/lib/python3.13/site-packages (from ipython>=6.1.0->ipywidgets>=7.6.0->ipycytoscape->qc_grader==0.21.5) (2.18.0)\n",
      "Requirement already satisfied: stack_data in ./quantum_env/lib/python3.13/site-packages (from ipython>=6.1.0->ipywidgets>=7.6.0->ipycytoscape->qc_grader==0.21.5) (0.6.3)\n",
      "Requirement already satisfied: parso<0.9.0,>=0.8.4 in ./quantum_env/lib/python3.13/site-packages (from jedi>=0.16->ipython>=6.1.0->ipywidgets>=7.6.0->ipycytoscape->qc_grader==0.21.5) (0.8.4)\n",
      "Requirement already satisfied: ptyprocess>=0.5 in ./quantum_env/lib/python3.13/site-packages (from pexpect>4.3->ipython>=6.1.0->ipywidgets>=7.6.0->ipycytoscape->qc_grader==0.21.5) (0.7.0)\n",
      "Requirement already satisfied: wcwidth in ./quantum_env/lib/python3.13/site-packages (from prompt_toolkit<3.1.0,>=3.0.41->ipython>=6.1.0->ipywidgets>=7.6.0->ipycytoscape->qc_grader==0.21.5) (0.2.13)\n",
      "Requirement already satisfied: executing>=1.2.0 in ./quantum_env/lib/python3.13/site-packages (from stack_data->ipython>=6.1.0->ipywidgets>=7.6.0->ipycytoscape->qc_grader==0.21.5) (2.1.0)\n",
      "Requirement already satisfied: asttokens>=2.1.0 in ./quantum_env/lib/python3.13/site-packages (from stack_data->ipython>=6.1.0->ipywidgets>=7.6.0->ipycytoscape->qc_grader==0.21.5) (3.0.0)\n",
      "Requirement already satisfied: pure-eval in ./quantum_env/lib/python3.13/site-packages (from stack_data->ipython>=6.1.0->ipywidgets>=7.6.0->ipycytoscape->qc_grader==0.21.5) (0.2.3)\n",
      "Note: you may need to restart the kernel to use updated packages.\n"
     ]
    }
   ],
   "source": [
    "%pip install qiskit_aer\n",
    "%pip install qiskit_ibm_runtime\n",
    "%pip install matplotlib\n",
    "%pip install pylatexenc\n",
    "%pip install qiskit-transpiler-service\n",
    "%pip install git+https://github.com/qiskit-community/Quantum-Challenge-Grader.git"
   ]
  },
  {
   "cell_type": "code",
   "execution_count": 12,
   "metadata": {},
   "outputs": [
    {
     "name": "stdout",
     "output_type": "stream",
     "text": [
      "Name: pylatexenc\n",
      "Version: 2.10\n",
      "Summary: Simple LaTeX parser providing latex-to-unicode and unicode-to-latex conversion\n",
      "Home-page: https://github.com/phfaist/pylatexenc\n",
      "Author: Philippe Faist\n",
      "Author-email: philippe.faist@bluewin.ch\n",
      "License: MIT\n",
      "Location: /Users/bander/Development/quantum-qiskit/quantum_env/lib/python3.13/site-packages\n",
      "Requires: \n",
      "Required-by: \n",
      "---\n",
      "Name: matplotlib\n",
      "Version: 3.9.3\n",
      "Summary: Python plotting package\n",
      "Home-page: https://matplotlib.org\n",
      "Author: John D. Hunter, Michael Droettboom\n",
      "Author-email: Unknown <matplotlib-users@python.org>\n",
      "License: License agreement for matplotlib versions 1.3.0 and later\n",
      " =========================================================\n",
      "\n",
      " 1. This LICENSE AGREEMENT is between the Matplotlib Development Team\n",
      " (\"MDT\"), and the Individual or Organization (\"Licensee\") accessing and\n",
      " otherwise using matplotlib software in source or binary form and its\n",
      " associated documentation.\n",
      "\n",
      " 2. Subject to the terms and conditions of this License Agreement, MDT\n",
      " hereby grants Licensee a nonexclusive, royalty-free, world-wide license\n",
      " to reproduce, analyze, test, perform and/or display publicly, prepare\n",
      " derivative works, distribute, and otherwise use matplotlib\n",
      " alone or in any derivative version, provided, however, that MDT's\n",
      " License Agreement and MDT's notice of copyright, i.e., \"Copyright (c)\n",
      " 2012- Matplotlib Development Team; All Rights Reserved\" are retained in\n",
      " matplotlib  alone or in any derivative version prepared by\n",
      " Licensee.\n",
      "\n",
      " 3. In the event Licensee prepares a derivative work that is based on or\n",
      " incorporates matplotlib or any part thereof, and wants to\n",
      " make the derivative work available to others as provided herein, then\n",
      " Licensee hereby agrees to include in any such work a brief summary of\n",
      " the changes made to matplotlib .\n",
      "\n",
      " 4. MDT is making matplotlib available to Licensee on an \"AS\n",
      " IS\" basis.  MDT MAKES NO REPRESENTATIONS OR WARRANTIES, EXPRESS OR\n",
      " IMPLIED.  BY WAY OF EXAMPLE, BUT NOT LIMITATION, MDT MAKES NO AND\n",
      " DISCLAIMS ANY REPRESENTATION OR WARRANTY OF MERCHANTABILITY OR FITNESS\n",
      " FOR ANY PARTICULAR PURPOSE OR THAT THE USE OF MATPLOTLIB\n",
      " WILL NOT INFRINGE ANY THIRD PARTY RIGHTS.\n",
      "\n",
      " 5. MDT SHALL NOT BE LIABLE TO LICENSEE OR ANY OTHER USERS OF MATPLOTLIB\n",
      "  FOR ANY INCIDENTAL, SPECIAL, OR CONSEQUENTIAL DAMAGES OR\n",
      " LOSS AS A RESULT OF MODIFYING, DISTRIBUTING, OR OTHERWISE USING\n",
      " MATPLOTLIB , OR ANY DERIVATIVE THEREOF, EVEN IF ADVISED OF\n",
      " THE POSSIBILITY THEREOF.\n",
      "\n",
      " 6. This License Agreement will automatically terminate upon a material\n",
      " breach of its terms and conditions.\n",
      "\n",
      " 7. Nothing in this License Agreement shall be deemed to create any\n",
      " relationship of agency, partnership, or joint venture between MDT and\n",
      " Licensee.  This License Agreement does not grant permission to use MDT\n",
      " trademarks or trade name in a trademark sense to endorse or promote\n",
      " products or services of Licensee, or any third party.\n",
      "\n",
      " 8. By copying, installing or otherwise using matplotlib ,\n",
      " Licensee agrees to be bound by the terms and conditions of this License\n",
      " Agreement.\n",
      "\n",
      " License agreement for matplotlib versions prior to 1.3.0\n",
      " ========================================================\n",
      "\n",
      " 1. This LICENSE AGREEMENT is between John D. Hunter (\"JDH\"), and the\n",
      " Individual or Organization (\"Licensee\") accessing and otherwise using\n",
      " matplotlib software in source or binary form and its associated\n",
      " documentation.\n",
      "\n",
      " 2. Subject to the terms and conditions of this License Agreement, JDH\n",
      " hereby grants Licensee a nonexclusive, royalty-free, world-wide license\n",
      " to reproduce, analyze, test, perform and/or display publicly, prepare\n",
      " derivative works, distribute, and otherwise use matplotlib\n",
      " alone or in any derivative version, provided, however, that JDH's\n",
      " License Agreement and JDH's notice of copyright, i.e., \"Copyright (c)\n",
      " 2002-2011 John D. Hunter; All Rights Reserved\" are retained in\n",
      " matplotlib  alone or in any derivative version prepared by\n",
      " Licensee.\n",
      "\n",
      " 3. In the event Licensee prepares a derivative work that is based on or\n",
      " incorporates matplotlib  or any part thereof, and wants to\n",
      " make the derivative work available to others as provided herein, then\n",
      " Licensee hereby agrees to include in any such work a brief summary of\n",
      " the changes made to matplotlib.\n",
      "\n",
      " 4. JDH is making matplotlib  available to Licensee on an \"AS\n",
      " IS\" basis.  JDH MAKES NO REPRESENTATIONS OR WARRANTIES, EXPRESS OR\n",
      " IMPLIED.  BY WAY OF EXAMPLE, BUT NOT LIMITATION, JDH MAKES NO AND\n",
      " DISCLAIMS ANY REPRESENTATION OR WARRANTY OF MERCHANTABILITY OR FITNESS\n",
      " FOR ANY PARTICULAR PURPOSE OR THAT THE USE OF MATPLOTLIB\n",
      " WILL NOT INFRINGE ANY THIRD PARTY RIGHTS.\n",
      "\n",
      " 5. JDH SHALL NOT BE LIABLE TO LICENSEE OR ANY OTHER USERS OF MATPLOTLIB\n",
      "  FOR ANY INCIDENTAL, SPECIAL, OR CONSEQUENTIAL DAMAGES OR\n",
      " LOSS AS A RESULT OF MODIFYING, DISTRIBUTING, OR OTHERWISE USING\n",
      " MATPLOTLIB , OR ANY DERIVATIVE THEREOF, EVEN IF ADVISED OF\n",
      " THE POSSIBILITY THEREOF.\n",
      "\n",
      " 6. This License Agreement will automatically terminate upon a material\n",
      " breach of its terms and conditions.\n",
      "\n",
      " 7. Nothing in this License Agreement shall be deemed to create any\n",
      " relationship of agency, partnership, or joint venture between JDH and\n",
      " Licensee.  This License Agreement does not grant permission to use JDH\n",
      " trademarks or trade name in a trademark sense to endorse or promote\n",
      " products or services of Licensee, or any third party.\n",
      "\n",
      " 8. By copying, installing or otherwise using matplotlib,\n",
      " Licensee agrees to be bound by the terms and conditions of this License\n",
      " Agreement.\n",
      "Location: /Users/bander/Development/quantum-qiskit/quantum_env/lib/python3.13/site-packages\n",
      "Requires: contourpy, cycler, fonttools, kiwisolver, numpy, packaging, pillow, pyparsing, python-dateutil\n",
      "Required-by: seaborn\n",
      "---\n",
      "Name: qc_grader\n",
      "Version: 0.21.5\n",
      "Summary: Grading client for the IBM Quantum Challenge\n",
      "Home-page: https://quantum.ibm.com/\n",
      "Author: IBM Quantum Community Team\n",
      "Author-email: \n",
      "License: Apache 2.0\n",
      "Location: /Users/bander/Development/quantum-qiskit/quantum_env/lib/python3.13/site-packages\n",
      "Requires: graphviz, ipycytoscape, jsonpickle, networkx, plotly, typeguard\n",
      "Required-by: \n",
      "Note: you may need to restart the kernel to use updated packages.\n"
     ]
    }
   ],
   "source": [
    "%pip show pylatexenc matplotlib qc_grader\n"
   ]
  },
  {
   "cell_type": "code",
   "execution_count": 13,
   "metadata": {},
   "outputs": [
    {
     "name": "stdout",
     "output_type": "stream",
     "text": [
      "env: QXToken=d35b8251169d3af997083cd10df4a512081e3329b1f721b6b0dc456a43a085c1e25fdb64d7efa50cac5e6157aedee071e8c601d1f0be10cd53ca9b5a78f2ae68\n"
     ]
    }
   ],
   "source": [
    "%set_env QXToken=d35b8251169d3af997083cd10df4a512081e3329b1f721b6b0dc456a43a085c1e25fdb64d7efa50cac5e6157aedee071e8c601d1f0be10cd53ca9b5a78f2ae68"
   ]
  },
  {
   "cell_type": "code",
   "execution_count": 6,
   "metadata": {},
   "outputs": [],
   "source": [
    "### Imports\n",
    "\n",
    "from qiskit import QuantumCircuit\n",
    "from qiskit.quantum_info import SparsePauliOp\n",
    "from qiskit_ibm_runtime import EstimatorV2 as Estimator\n",
    "from qiskit_aer import AerSimulator\n",
    "import matplotlib.pyplot as plt\n",
    "# from qc_grader.challenges.iqc_2024 import grade_lab0_ex1"
   ]
  },
  {
   "cell_type": "code",
   "execution_count": 7,
   "metadata": {},
   "outputs": [
    {
     "data": {
      "image/png": "[encoded data removed]",
      "text/plain": [
       "<Figure size 287.294x200.667 with 1 Axes>"
      ]
     },
     "execution_count": 7,
     "metadata": {},
     "output_type": "execute_result"
    }
   ],
   "source": [
    "# Create a new circuit with two qubits\n",
    "qc = QuantumCircuit(2)\n",
    "\n",
    "# Add a Hadamard gate to qubit 0\n",
    "qc.h(0)\n",
    "\n",
    "# Perform a CNOT gate on qubit 1, controlled by qubit 0\n",
    "qc.cx(0, 1)\n",
    "\n",
    "# Return a drawing of the circuit using MatPlotLib (\"mpl\"). This is the\n",
    "# last line of the cell, so the drawing appears in the cell output.\n",
    "qc.draw(\"mpl\")"
   ]
  },
  {
   "cell_type": "code",
   "execution_count": 8,
   "metadata": {},
   "outputs": [],
   "source": [
    "# The ZZ applies a Z operator on qubit 0, and a Z operator on qubit 1\n",
    "ZZ = SparsePauliOp('ZZ')\n",
    "\n",
    "# The ZI applies a Z operator on qubit 0, and an Identity operator on qubit 1\n",
    "ZI = SparsePauliOp('ZI')\n",
    "\n",
    "# The IX applies an Identity operator on qubit 0, and an X operator on qubit 1\n",
    "IX = SparsePauliOp('IX')\n",
    "\n",
    "\n",
    "\n",
    "### Write your code below here ###\n",
    "### Follow the same naming convention we used above\n",
    "IZ = SparsePauliOp('IZ')\n",
    "XI = SparsePauliOp('XI')\n",
    "XX = SparsePauliOp('XX')\n",
    "\n",
    "\n",
    "\n",
    "## Don't change any code past this line, but remember to run the cell.\n",
    "\n",
    "observables = [IZ, IX, ZI, XI, ZZ, XX]"
   ]
  },
  {
   "cell_type": "code",
   "execution_count": 9,
   "metadata": {},
   "outputs": [
    {
     "ename": "ModuleNotFoundError",
     "evalue": "No module named 'qiskit_serverless'",
     "output_type": "error",
     "traceback": [
      "\u001b[0;31m---------------------------------------------------------------------------\u001b[0m",
      "\u001b[0;31mModuleNotFoundError\u001b[0m                       Traceback (most recent call last)",
      "Cell \u001b[0;32mIn[9], line 1\u001b[0m\n\u001b[0;32m----> 1\u001b[0m \u001b[38;5;28;01mfrom\u001b[39;00m \u001b[38;5;21;01mqc_grader\u001b[39;00m\u001b[38;5;21;01m.\u001b[39;00m\u001b[38;5;21;01mchallenges\u001b[39;00m\u001b[38;5;21;01m.\u001b[39;00m\u001b[38;5;21;01miqc_2024\u001b[39;00m \u001b[38;5;28;01mimport\u001b[39;00m grade_lab0_ex1\n\u001b[1;32m      2\u001b[0m grade_lab0_ex1(observables)\n",
      "File \u001b[0;32m~/Development/quantum-qiskit/quantum_env/lib/python3.13/site-packages/qc_grader/challenges/iqc_2024/__init__.py:22\u001b[0m\n\u001b[1;32m      4\u001b[0m \u001b[38;5;28;01mfrom\u001b[39;00m \u001b[38;5;21;01m.\u001b[39;00m\u001b[38;5;21;01mlab1\u001b[39;00m \u001b[38;5;28;01mimport\u001b[39;00m (\n\u001b[1;32m      5\u001b[0m     grade_lab1_ex1,\n\u001b[1;32m      6\u001b[0m     grade_lab1_ex2,\n\u001b[0;32m   (...)\u001b[0m\n\u001b[1;32m     11\u001b[0m     grade_lab1_ex7,\n\u001b[1;32m     12\u001b[0m )\n\u001b[1;32m     14\u001b[0m \u001b[38;5;28;01mfrom\u001b[39;00m \u001b[38;5;21;01m.\u001b[39;00m\u001b[38;5;21;01mlab2\u001b[39;00m \u001b[38;5;28;01mimport\u001b[39;00m (\n\u001b[1;32m     15\u001b[0m     grade_lab2_ex1,\n\u001b[1;32m     16\u001b[0m     grade_lab2_ex2,\n\u001b[0;32m   (...)\u001b[0m\n\u001b[1;32m     19\u001b[0m     grade_lab2_ex5,\n\u001b[1;32m     20\u001b[0m )\n\u001b[0;32m---> 22\u001b[0m \u001b[38;5;28;01mfrom\u001b[39;00m \u001b[38;5;21;01m.\u001b[39;00m\u001b[38;5;21;01mlab3\u001b[39;00m \u001b[38;5;28;01mimport\u001b[39;00m (\n\u001b[1;32m     23\u001b[0m     grade_lab3_ait_ex1,\n\u001b[1;32m     24\u001b[0m     grade_lab3_ait_ex2,\n\u001b[1;32m     25\u001b[0m     grade_lab3_ckt_ex1,\n\u001b[1;32m     26\u001b[0m     grade_lab3_ckt_ex2,\n\u001b[1;32m     27\u001b[0m     grade_lab3_qs_ex1,\n\u001b[1;32m     28\u001b[0m     grade_lab3_qs_ex2,\n\u001b[1;32m     29\u001b[0m )\n\u001b[1;32m     31\u001b[0m \u001b[38;5;28;01mfrom\u001b[39;00m \u001b[38;5;21;01m.\u001b[39;00m\u001b[38;5;21;01mlab4\u001b[39;00m \u001b[38;5;28;01mimport\u001b[39;00m (\n\u001b[1;32m     32\u001b[0m     grade_lab4_ex1,\n\u001b[1;32m     33\u001b[0m     grade_lab4_ex2,\n\u001b[0;32m   (...)\u001b[0m\n\u001b[1;32m     38\u001b[0m     grade_lab4_ex7,\n\u001b[1;32m     39\u001b[0m )\n\u001b[1;32m     41\u001b[0m \u001b[38;5;28;01mfrom\u001b[39;00m \u001b[38;5;21;01m.\u001b[39;00m\u001b[38;5;21;01mlab_bonus\u001b[39;00m \u001b[38;5;28;01mimport\u001b[39;00m (\n\u001b[1;32m     42\u001b[0m     grade_lab_bonus_ex1,\n\u001b[1;32m     43\u001b[0m     grade_lab_bonus_ex2,\n\u001b[1;32m     44\u001b[0m     grade_lab_bonus_ex3,\n\u001b[1;32m     45\u001b[0m )\n",
      "File \u001b[0;32m~/Development/quantum-qiskit/quantum_env/lib/python3.13/site-packages/qc_grader/challenges/iqc_2024/lab3.py:7\u001b[0m\n\u001b[1;32m      4\u001b[0m \u001b[38;5;28;01mimport\u001b[39;00m \u001b[38;5;21;01mnumpy\u001b[39;00m \u001b[38;5;28;01mas\u001b[39;00m \u001b[38;5;21;01mnp\u001b[39;00m\n\u001b[1;32m      6\u001b[0m \u001b[38;5;28;01mfrom\u001b[39;00m \u001b[38;5;21;01mqiskit\u001b[39;00m \u001b[38;5;28;01mimport\u001b[39;00m QuantumCircuit\n\u001b[0;32m----> 7\u001b[0m \u001b[38;5;28;01mfrom\u001b[39;00m \u001b[38;5;21;01mqiskit_serverless\u001b[39;00m\u001b[38;5;21;01m.\u001b[39;00m\u001b[38;5;21;01mcore\u001b[39;00m\u001b[38;5;21;01m.\u001b[39;00m\u001b[38;5;21;01mjob\u001b[39;00m \u001b[38;5;28;01mimport\u001b[39;00m Job\n\u001b[1;32m      8\u001b[0m \u001b[38;5;28;01mfrom\u001b[39;00m \u001b[38;5;21;01mqiskit\u001b[39;00m\u001b[38;5;21;01m.\u001b[39;00m\u001b[38;5;21;01mquantum_info\u001b[39;00m \u001b[38;5;28;01mimport\u001b[39;00m SparsePauliOp\n\u001b[1;32m      9\u001b[0m \u001b[38;5;28;01mfrom\u001b[39;00m \u001b[38;5;21;01mqiskit_serverless\u001b[39;00m\u001b[38;5;21;01m.\u001b[39;00m\u001b[38;5;21;01mcore\u001b[39;00m\u001b[38;5;21;01m.\u001b[39;00m\u001b[38;5;21;01mfunction\u001b[39;00m \u001b[38;5;28;01mimport\u001b[39;00m QiskitFunction\n",
      "\u001b[0;31mModuleNotFoundError\u001b[0m: No module named 'qiskit_serverless'"
     ]
    }
   ],
   "source": [
    "from qc_grader.challenges.iqc_2024 import grade_lab0_ex1\n",
    "grade_lab0_ex1(observables)\n"
   ]
  },
  {
   "cell_type": "code",
   "execution_count": 10,
   "metadata": {},
   "outputs": [],
   "source": [
    "# Step 3: Execute the circuit\n",
    "\n",
    "### Imports\n",
    "\n",
    "from qiskit import QuantumCircuit\n",
    "from qiskit.quantum_info import SparsePauliOp\n",
    "from qiskit_ibm_runtime import EstimatorV2 as Estimator\n",
    "from qiskit_aer import AerSimulator\n",
    "import matplotlib.pyplot as plt\n",
    "# Set up the Estimator\n",
    "estimator = Estimator(AerSimulator())\n",
    "\n",
    "# Submit the circuit to Estimator\n",
    "pub = (qc, observables)\n",
    "\n",
    "job = estimator.run(pubs=[pub])"
   ]
  },
  {
   "cell_type": "code",
   "execution_count": 11,
   "metadata": {},
   "outputs": [
    {
     "data": {
      "image/png": "[encoded data removed]",
      "text/plain": [
       "<Figure size 640x480 with 1 Axes>"
      ]
     },
     "metadata": {},
     "output_type": "display_data"
    }
   ],
   "source": [
    "# Step 4: Post-process the results\n",
    "\n",
    "# Collect the data\n",
    "data = ['IZ', 'IX', 'ZI', 'XI', 'ZZ', 'XX']\n",
    "values = job.result()[0].data.evs\n",
    "\n",
    "# Set up our graph\n",
    "container = plt.plot(data, values, '-o')\n",
    "\n",
    "# Label each axis\n",
    "plt.xlabel('Observables')\n",
    "plt.ylabel('Values')\n",
    "\n",
    "# Draw the final graph\n",
    "plt.show()"
   ]
  },
  {
   "cell_type": "code",
   "execution_count": 12,
   "metadata": {},
   "outputs": [
    {
     "data": {
      "image/png": "[encoded data removed]",
      "text/plain": [
       "<Figure size 640x480 with 1 Axes>"
      ]
     },
     "metadata": {},
     "output_type": "display_data"
    }
   ],
   "source": [
    "container = plt.bar(data, values, width=0.8)\n",
    "\n",
    "plt.xlabel('Observables')\n",
    "plt.ylabel('Values')\n",
    "\n",
    "plt.show()"
   ]
  }
 ],
 "metadata": {
  "kernelspec": {
   "display_name": "quantum_env",
   "language": "python",
   "name": "python3"
  },
  "language_info": {
   "codemirror_mode": {
    "name": "ipython",
    "version": 3
   },
   "file_extension": ".py",
   "mimetype": "text/x-python",
   "name": "python",
   "nbconvert_exporter": "python",
   "pygments_lexer": "ipython3",
   "version": "3.13.1"
  }
 },
 "nbformat": 4,
 "nbformat_minor": 2
}
